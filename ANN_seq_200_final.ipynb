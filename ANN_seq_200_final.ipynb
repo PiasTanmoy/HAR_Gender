{
  "nbformat": 4,
  "nbformat_minor": 0,
  "metadata": {
    "colab": {
      "name": "ANN_seq_200.ipynb",
      "version": "0.3.2",
      "provenance": [],
      "collapsed_sections": []
    },
    "kernelspec": {
      "name": "python3",
      "display_name": "Python 3"
    }
  },
  "cells": [
    {
      "cell_type": "code",
      "metadata": {
        "id": "ygJ-a2ZH3y-K",
        "colab_type": "code",
        "outputId": "79d94806-c80a-4139-ae20-2db1b9ac96d7",
        "colab": {
          "base_uri": "https://localhost:8080/",
          "height": 122
        }
      },
      "source": [
        "from google.colab import drive\n",
        "drive.mount('/content/drive')"
      ],
      "execution_count": 0,
      "outputs": [
        {
          "output_type": "stream",
          "text": [
            "Go to this URL in a browser: https://accounts.google.com/o/oauth2/auth?client_id=947318989803-6bn6qk8qdgf4n4g3pfee6491hc0brc4i.apps.googleusercontent.com&redirect_uri=urn%3Aietf%3Awg%3Aoauth%3A2.0%3Aoob&scope=email%20https%3A%2F%2Fwww.googleapis.com%2Fauth%2Fdocs.test%20https%3A%2F%2Fwww.googleapis.com%2Fauth%2Fdrive%20https%3A%2F%2Fwww.googleapis.com%2Fauth%2Fdrive.photos.readonly%20https%3A%2F%2Fwww.googleapis.com%2Fauth%2Fpeopleapi.readonly&response_type=code\n",
            "\n",
            "Enter your authorization code:\n",
            "··········\n",
            "Mounted at /content/drive\n"
          ],
          "name": "stdout"
        }
      ]
    },
    {
      "cell_type": "code",
      "metadata": {
        "id": "o0-Fb6r3q1eR",
        "colab_type": "code",
        "outputId": "4a9ad979-f012-4cca-ef1b-701588cc5998",
        "colab": {
          "base_uri": "https://localhost:8080/",
          "height": 34
        }
      },
      "source": [
        "drive.mount(\"/content/drive\", force_remount=True)"
      ],
      "execution_count": 0,
      "outputs": [
        {
          "output_type": "stream",
          "text": [
            "Mounted at /content/drive\n"
          ],
          "name": "stdout"
        }
      ]
    },
    {
      "cell_type": "code",
      "metadata": {
        "id": "uUitOa9z30eQ",
        "colab_type": "code",
        "colab": {}
      },
      "source": [
        "# -*- coding: utf-8 -*-\n",
        "\"\"\"\n",
        "Created on Mon Aug 12 16:02:52 2019\n",
        "\n",
        "@author: Pias Tanmoy\n",
        "\"\"\"\n",
        "\n",
        "\n",
        "from __future__ import print_function\n",
        "import numpy as np\n",
        "from keras.datasets import mnist\n",
        "from keras.models import Sequential\n",
        "from keras.layers.core import Dense\n",
        "from keras.layers.core import Activation\n",
        "from keras.layers import Dropout\n",
        "from keras.optimizers import SGD\n",
        "from keras.optimizers import Adam\n",
        "from keras.utils import np_utils\n",
        "import pandas as pd\n",
        "import matplotlib.pyplot as plt\n",
        "from sklearn.utils.multiclass import unique_labels\n",
        "from sklearn.utils import shuffle\n",
        "import pandas as pd\n",
        "from keras.callbacks import ModelCheckpoint\n",
        "from keras.utils import to_categorical\n",
        "import glob\n",
        "from sklearn.model_selection import train_test_split\n",
        "import keras\n",
        "from sklearn.preprocessing import LabelEncoder, OneHotEncoder\n",
        "\n",
        "np.random.seed(0)\n",
        "N_EPOCH = 20\n",
        "BATCH_SIZE = 50\n",
        "VERBOSE = 1\n",
        "N_CLASS = 2\n",
        "OPTIMIZER = Adam()\n",
        "N_HIDDEN_1 = 128\n",
        "VALIDATION_SPLIT = 0.2\n",
        "RESHAPE = 784\n",
        "DROPOUT = 0.1\n",
        "\n",
        "\n",
        "\n",
        "x = pd.read_csv('/content/drive/My Drive/Google_Colab/HAR/dataset/X_5000_seq_200_test.csv')\n",
        "y = pd.read_csv('/content/drive/My Drive/Google_Colab/HAR/dataset/Y_5000_seq_200_test.csv')\n",
        "#x_test = pd.read_csv('/content/drive/My Drive/Google_Colab/HAR/dataset/X_5000_seq_200_test.csv')\n",
        "#y_test = pd.read_csv('/content/drive/My Drive/Google_Colab/HAR/dataset/Y_5000_seq_200_test.csv')\n",
        "\n",
        "y = y.astype(int)\n",
        "onehotencoder = OneHotEncoder(categorical_features = [0])\n",
        "y = onehotencoder.fit_transform(y).toarray()\n",
        "\n",
        "x_train, x_test, y_train, y_test = train_test_split(x, y, test_size=0.33, random_state=42)\n",
        "\n",
        "x_train = np.array(x_train)\n",
        "y_train = np.array(y_train)\n",
        "x_test = np.array(x_test)\n",
        "y_test = np.array(y_test)\n",
        "\n",
        "y_train = y_train.astype(int)\n",
        "y_test = y_test.astype(int)\n",
        "\n",
        "\n",
        "#X_train, Y_train = shuffle(X_train, y_train)\n",
        "\n",
        "from sklearn.preprocessing import StandardScaler\n",
        "sc = StandardScaler()\n",
        "x_train = sc.fit_transform(x_train)\n",
        "x_test = sc.transform(x_test)"
      ],
      "execution_count": 0,
      "outputs": []
    },
    {
      "cell_type": "code",
      "metadata": {
        "id": "YAQaKyM05FfI",
        "colab_type": "code",
        "outputId": "9f41b80f-db41-4597-abe4-02c54891ef8c",
        "colab": {
          "base_uri": "https://localhost:8080/",
          "height": 34
        }
      },
      "source": [
        "x_train.shape"
      ],
      "execution_count": 0,
      "outputs": [
        {
          "output_type": "execute_result",
          "data": {
            "text/plain": [
              "(26800, 1200)"
            ]
          },
          "metadata": {
            "tags": []
          },
          "execution_count": 3
        }
      ]
    },
    {
      "cell_type": "code",
      "metadata": {
        "id": "9FHxmWmb4hjh",
        "colab_type": "code",
        "colab": {}
      },
      "source": [
        "DROPOUT = 0.5\n",
        "def create_model():\n",
        "  classifier = Sequential()\n",
        "  classifier.add(Dense(units = 500, activation='relu', kernel_initializer='glorot_uniform', input_dim=1200))\n",
        "  classifier.add(Dropout(DROPOUT))\n",
        "  classifier.add(Dense(units = 100, activation='relu', kernel_initializer = 'glorot_uniform'))\n",
        "  classifier.add(Dropout(DROPOUT))\n",
        "  classifier.add(Dense(units = 50, activation='relu', kernel_initializer = 'glorot_uniform'))\n",
        "  classifier.add(Dropout(DROPOUT))\n",
        "  classifier.add(Dense(units = 500, activation='relu', kernel_initializer = 'glorot_uniform'))\n",
        "  classifier.add(Dense(units = 2, kernel_initializer = 'uniform', activation = 'softmax'))\n",
        "  classifier.compile(optimizer = 'Adam' , loss = 'categorical_crossentropy', metrics = ['accuracy'])\n",
        "  model = classifier\n",
        "  \n",
        "  return model\n",
        "\n",
        "model = create_model()\n",
        "\n",
        "#model = create_model()\n"
      ],
      "execution_count": 0,
      "outputs": []
    },
    {
      "cell_type": "code",
      "metadata": {
        "id": "kEoo3Pl84js5",
        "colab_type": "code",
        "outputId": "dc2d3702-a349-4ca6-fd49-500d61ddcdfc",
        "colab": {
          "base_uri": "https://localhost:8080/",
          "height": 1000
        }
      },
      "source": [
        "BATCH_SIZE = 20\n",
        "VALIDATION_SPLIT = 0.2\n",
        "\n",
        "history = model.fit(x_train, y_train, batch_size = BATCH_SIZE, \n",
        "                    epochs = 50, verbose = VERBOSE, \n",
        "                    validation_split=VALIDATION_SPLIT,\n",
        "                    shuffle = True)"
      ],
      "execution_count": 0,
      "outputs": [
        {
          "output_type": "stream",
          "text": [
            "WARNING:tensorflow:From /usr/local/lib/python3.6/dist-packages/tensorflow/python/ops/math_grad.py:1250: add_dispatch_support.<locals>.wrapper (from tensorflow.python.ops.array_ops) is deprecated and will be removed in a future version.\n",
            "Instructions for updating:\n",
            "Use tf.where in 2.0, which has the same broadcast rule as np.where\n",
            "Train on 21440 samples, validate on 5360 samples\n",
            "Epoch 1/50\n",
            "21440/21440 [==============================] - 19s 898us/step - loss: 0.3510 - acc: 0.8346 - val_loss: 0.1686 - val_acc: 0.9582\n",
            "Epoch 2/50\n",
            "21440/21440 [==============================] - 17s 774us/step - loss: 0.1786 - acc: 0.9310 - val_loss: 0.1082 - val_acc: 0.9705\n",
            "Epoch 3/50\n",
            "21440/21440 [==============================] - 16s 738us/step - loss: 0.1314 - acc: 0.9512 - val_loss: 0.0779 - val_acc: 0.9813\n",
            "Epoch 4/50\n",
            "21440/21440 [==============================] - 17s 791us/step - loss: 0.0954 - acc: 0.9636 - val_loss: 0.0527 - val_acc: 0.9866\n",
            "Epoch 5/50\n",
            "21440/21440 [==============================] - 16s 727us/step - loss: 0.0848 - acc: 0.9701 - val_loss: 0.0355 - val_acc: 0.9869\n",
            "Epoch 6/50\n",
            "21440/21440 [==============================] - 16s 726us/step - loss: 0.0812 - acc: 0.9720 - val_loss: 0.0515 - val_acc: 0.9879\n",
            "Epoch 7/50\n",
            "21440/21440 [==============================] - 16s 732us/step - loss: 0.0677 - acc: 0.9771 - val_loss: 0.0444 - val_acc: 0.9871\n",
            "Epoch 8/50\n",
            "21440/21440 [==============================] - 17s 789us/step - loss: 0.0585 - acc: 0.9816 - val_loss: 0.0261 - val_acc: 0.9946\n",
            "Epoch 9/50\n",
            "21440/21440 [==============================] - 16s 724us/step - loss: 0.0590 - acc: 0.9816 - val_loss: 0.0154 - val_acc: 0.9953\n",
            "Epoch 10/50\n",
            "21440/21440 [==============================] - 15s 717us/step - loss: 0.0538 - acc: 0.9840 - val_loss: 0.0149 - val_acc: 0.9942\n",
            "Epoch 11/50\n",
            "21440/21440 [==============================] - 15s 720us/step - loss: 0.0536 - acc: 0.9851 - val_loss: 0.0464 - val_acc: 0.9836\n",
            "Epoch 12/50\n",
            "21440/21440 [==============================] - 15s 712us/step - loss: 0.0501 - acc: 0.9859 - val_loss: 0.0254 - val_acc: 0.9957\n",
            "Epoch 13/50\n",
            "21440/21440 [==============================] - 15s 710us/step - loss: 0.0434 - acc: 0.9870 - val_loss: 0.0220 - val_acc: 0.9922\n",
            "Epoch 14/50\n",
            "21440/21440 [==============================] - 15s 708us/step - loss: 0.0531 - acc: 0.9854 - val_loss: 0.0097 - val_acc: 0.9961\n",
            "Epoch 15/50\n",
            "21440/21440 [==============================] - 16s 729us/step - loss: 0.0462 - acc: 0.9868 - val_loss: 0.0211 - val_acc: 0.9925\n",
            "Epoch 16/50\n",
            "21440/21440 [==============================] - 15s 707us/step - loss: 0.0402 - acc: 0.9886 - val_loss: 0.0157 - val_acc: 0.9944\n",
            "Epoch 17/50\n",
            "21440/21440 [==============================] - 15s 715us/step - loss: 0.0450 - acc: 0.9878 - val_loss: 0.0183 - val_acc: 0.9951\n",
            "Epoch 18/50\n",
            "21440/21440 [==============================] - 16s 724us/step - loss: 0.0378 - acc: 0.9887 - val_loss: 0.0108 - val_acc: 0.9966\n",
            "Epoch 19/50\n",
            "21440/21440 [==============================] - 15s 713us/step - loss: 0.0350 - acc: 0.9903 - val_loss: 0.0233 - val_acc: 0.9912\n",
            "Epoch 20/50\n",
            "21440/21440 [==============================] - 15s 715us/step - loss: 0.0339 - acc: 0.9896 - val_loss: 0.0140 - val_acc: 0.9953\n",
            "Epoch 21/50\n",
            "21440/21440 [==============================] - 15s 714us/step - loss: 0.0456 - acc: 0.9875 - val_loss: 0.0117 - val_acc: 0.9968\n",
            "Epoch 22/50\n",
            "21440/21440 [==============================] - 16s 729us/step - loss: 0.0369 - acc: 0.9904 - val_loss: 0.0077 - val_acc: 0.9978\n",
            "Epoch 23/50\n",
            "21440/21440 [==============================] - 15s 717us/step - loss: 0.0374 - acc: 0.9910 - val_loss: 0.0061 - val_acc: 0.9978\n",
            "Epoch 24/50\n",
            "21440/21440 [==============================] - 15s 717us/step - loss: 0.0303 - acc: 0.9920 - val_loss: 0.0123 - val_acc: 0.9965\n",
            "Epoch 25/50\n",
            "21440/21440 [==============================] - 15s 717us/step - loss: 0.0352 - acc: 0.9915 - val_loss: 0.0199 - val_acc: 0.9938\n",
            "Epoch 26/50\n",
            "21440/21440 [==============================] - 15s 716us/step - loss: 0.0416 - acc: 0.9904 - val_loss: 0.0072 - val_acc: 0.9978\n",
            "Epoch 27/50\n",
            "21440/21440 [==============================] - 15s 716us/step - loss: 0.0332 - acc: 0.9907 - val_loss: 0.0172 - val_acc: 0.9944\n",
            "Epoch 28/50\n",
            "21440/21440 [==============================] - 15s 715us/step - loss: 0.0376 - acc: 0.9909 - val_loss: 0.0064 - val_acc: 0.9965\n",
            "Epoch 29/50\n",
            "21440/21440 [==============================] - 15s 716us/step - loss: 0.0305 - acc: 0.9920 - val_loss: 0.0136 - val_acc: 0.9961\n",
            "Epoch 30/50\n",
            "21440/21440 [==============================] - 15s 713us/step - loss: 0.0344 - acc: 0.9906 - val_loss: 0.0079 - val_acc: 0.9968\n",
            "Epoch 31/50\n",
            "21440/21440 [==============================] - 15s 717us/step - loss: 0.0324 - acc: 0.9930 - val_loss: 0.0121 - val_acc: 0.9951\n",
            "Epoch 32/50\n",
            "21440/21440 [==============================] - 16s 727us/step - loss: 0.0367 - acc: 0.9921 - val_loss: 0.0073 - val_acc: 0.9978\n",
            "Epoch 33/50\n",
            "21440/21440 [==============================] - 15s 718us/step - loss: 0.0242 - acc: 0.9934 - val_loss: 0.0036 - val_acc: 0.9987\n",
            "Epoch 34/50\n",
            "21440/21440 [==============================] - 15s 721us/step - loss: 0.0346 - acc: 0.9924 - val_loss: 0.0209 - val_acc: 0.9931\n",
            "Epoch 35/50\n",
            "21440/21440 [==============================] - 16s 735us/step - loss: 0.0373 - acc: 0.9917 - val_loss: 0.0076 - val_acc: 0.9979\n",
            "Epoch 36/50\n",
            "21440/21440 [==============================] - 16s 726us/step - loss: 0.0342 - acc: 0.9916 - val_loss: 0.0045 - val_acc: 0.9989\n",
            "Epoch 37/50\n",
            "21440/21440 [==============================] - 15s 719us/step - loss: 0.0307 - acc: 0.9927 - val_loss: 0.0117 - val_acc: 0.9950\n",
            "Epoch 38/50\n",
            "21440/21440 [==============================] - 16s 724us/step - loss: 0.0334 - acc: 0.9926 - val_loss: 0.0098 - val_acc: 0.9965\n",
            "Epoch 39/50\n",
            "21440/21440 [==============================] - 16s 729us/step - loss: 0.0211 - acc: 0.9946 - val_loss: 0.0038 - val_acc: 0.9989\n",
            "Epoch 40/50\n",
            "21440/21440 [==============================] - 16s 731us/step - loss: 0.0272 - acc: 0.9941 - val_loss: 0.0087 - val_acc: 0.9978\n",
            "Epoch 41/50\n",
            "21440/21440 [==============================] - 16s 726us/step - loss: 0.0409 - acc: 0.9920 - val_loss: 0.0119 - val_acc: 0.9976\n",
            "Epoch 42/50\n",
            "21440/21440 [==============================] - 16s 758us/step - loss: 0.0257 - acc: 0.9925 - val_loss: 0.0095 - val_acc: 0.9979\n",
            "Epoch 43/50\n",
            "21440/21440 [==============================] - 16s 740us/step - loss: 0.0259 - acc: 0.9945 - val_loss: 0.0059 - val_acc: 0.9985\n",
            "Epoch 44/50\n",
            "21440/21440 [==============================] - 16s 734us/step - loss: 0.0352 - acc: 0.9935 - val_loss: 0.0057 - val_acc: 0.9987\n",
            "Epoch 45/50\n",
            "21440/21440 [==============================] - 16s 736us/step - loss: 0.0387 - acc: 0.9934 - val_loss: 0.0071 - val_acc: 0.9968\n",
            "Epoch 46/50\n",
            "21440/21440 [==============================] - 16s 738us/step - loss: 0.0363 - acc: 0.9919 - val_loss: 0.0055 - val_acc: 0.9981\n",
            "Epoch 47/50\n",
            "21440/21440 [==============================] - 16s 737us/step - loss: 0.0294 - acc: 0.9929 - val_loss: 0.0039 - val_acc: 0.9985\n",
            "Epoch 48/50\n",
            "21440/21440 [==============================] - 16s 741us/step - loss: 0.0310 - acc: 0.9937 - val_loss: 0.0050 - val_acc: 0.9978\n",
            "Epoch 49/50\n",
            "21440/21440 [==============================] - 16s 738us/step - loss: 0.0249 - acc: 0.9932 - val_loss: 0.0051 - val_acc: 0.9985\n",
            "Epoch 50/50\n",
            "21440/21440 [==============================] - 16s 744us/step - loss: 0.0256 - acc: 0.9950 - val_loss: 0.0032 - val_acc: 0.9987\n"
          ],
          "name": "stdout"
        }
      ]
    },
    {
      "cell_type": "code",
      "metadata": {
        "id": "wOmGOfEu4lkZ",
        "colab_type": "code",
        "outputId": "1fda2d59-fc36-45f8-d602-2baba6058eed",
        "colab": {
          "base_uri": "https://localhost:8080/",
          "height": 658
        }
      },
      "source": [
        "scores = model.evaluate(x_test, y_test, verbose=1)\n",
        "print(\"Test Score: \", scores[0])\n",
        "print(\"Accuracy: \" , scores[1])\n",
        "\n",
        "\n",
        "y_pred = model.predict(x_test)\n",
        "y_test_argmax = y_test.argmax(axis=1)\n",
        "y_pred_argmax = y_pred.argmax(axis=1)\n",
        "\n",
        "from sklearn.metrics import f1_score\n",
        "print('sklearn Macro-F1-Score:', f1_score(y_test_argmax, y_pred_argmax, average='macro'))\n",
        "\n",
        "print(history.history.keys())\n",
        "# summarize history for accuracy\n",
        "plt.plot(history.history['acc'])\n",
        "plt.plot(history.history['val_acc'])\n",
        "plt.title('model accuracy')\n",
        "plt.ylabel('accuracy')\n",
        "plt.xlabel('epoch')\n",
        "plt.legend(['train', 'validation'], loc='upper left')\n",
        "\n",
        "from google.colab import files\n",
        "plt.savefig(\"acc.png\", dpi=300)\n",
        "#files.download(\"acc.png\") \n",
        "plt.show()\n",
        "\n",
        "\n",
        "# summarize history for loss\n",
        "plt.plot(history.history['loss'])\n",
        "plt.plot(history.history['val_loss'])\n",
        "plt.title('model loss')\n",
        "plt.ylabel('loss')\n",
        "plt.xlabel('epoch')\n",
        "plt.legend(['train', 'validation'], loc='upper left')\n",
        "plt.savefig(\"loss.png\", dpi=300)\n",
        "#files.download(\"loss.png\") \n",
        "plt.show()"
      ],
      "execution_count": 0,
      "outputs": [
        {
          "output_type": "stream",
          "text": [
            "13200/13200 [==============================] - 1s 91us/step\n",
            "Test Score:  0.005196308490254716\n",
            "Accuracy:  0.9983333333333333\n",
            "sklearn Macro-F1-Score: 0.9983332988973601\n",
            "dict_keys(['val_loss', 'val_acc', 'loss', 'acc'])\n"
          ],
          "name": "stdout"
        },
        {
          "output_type": "display_data",
          "data": {
            "image/png": "[encoded data removed]",
            "text/plain": [
              "<Figure size 432x288 with 1 Axes>"
            ]
          },
          "metadata": {
            "tags": []
          }
        },
        {
          "output_type": "display_data",
          "data": {
            "image/png": "[encoded data removed]",
            "text/plain": [
              "<Figure size 432x288 with 1 Axes>"
            ]
          },
          "metadata": {
            "tags": []
          }
        }
      ]
    },
    {
      "cell_type": "code",
      "metadata": {
        "id": "W2tWZ-Vz4tPx",
        "colab_type": "code",
        "outputId": "b653ba52-93e7-49f4-9eb9-bb3fc1215ca4",
        "colab": {
          "base_uri": "https://localhost:8080/",
          "height": 679
        }
      },
      "source": [
        "\n",
        "def plot_confusion_matrix(y_true, y_pred, classes,\n",
        "                          normalize=False,\n",
        "                          title=None,\n",
        "                          cmap=plt.cm.Blues):\n",
        "    \"\"\"\n",
        "    This function prints and plots the confusion matrix.\n",
        "    Normalization can be applied by setting `normalize=True`.\n",
        "    \"\"\"\n",
        "    if not title:\n",
        "        if normalize:\n",
        "            title = 'Normalized confusion matrix'\n",
        "        else:\n",
        "            title = 'Confusion matrix, without normalization'\n",
        "\n",
        "    # Compute confusion matrix\n",
        "    cm = confusion_matrix(y_true, y_pred)\n",
        "    # Only use the labels that appear in the data\n",
        "    classes = classes[unique_labels(y_true, y_pred)]\n",
        "    if normalize:\n",
        "        cm = cm.astype('float') / cm.sum(axis=1)[:, np.newaxis]\n",
        "        print(\"Normalized confusion matrix\")\n",
        "    else:\n",
        "        print('Confusion matrix, without normalization')\n",
        "\n",
        "    print(cm)\n",
        "\n",
        "    fig, ax = plt.subplots()\n",
        "    im = ax.imshow(cm, interpolation='nearest', cmap=cmap)\n",
        "    ax.figure.colorbar(im, ax=ax)\n",
        "    # We want to show all ticks...\n",
        "    ax.set(xticks=np.arange(cm.shape[1]),\n",
        "           yticks=np.arange(cm.shape[0]),\n",
        "           # ... and label them with the respective list entries\n",
        "           xticklabels=classes, yticklabels=classes,\n",
        "           title=title,\n",
        "           ylabel='True label',\n",
        "           xlabel='Predicted label')\n",
        "\n",
        "    # Rotate the tick labels and set their alignment.\n",
        "    plt.setp(ax.get_xticklabels(), rotation=45, ha=\"right\",\n",
        "             rotation_mode=\"anchor\")\n",
        "\n",
        "    # Loop over data dimensions and create text annotations.\n",
        "    fmt = '.2f' if normalize else 'd'\n",
        "    thresh = cm.max() / 2.\n",
        "    for i in range(cm.shape[0]):\n",
        "        for j in range(cm.shape[1]):\n",
        "            ax.text(j, i, format(cm[i, j], fmt),\n",
        "                    ha=\"center\", va=\"center\",\n",
        "                    color=\"white\" if cm[i, j] > thresh else \"black\")\n",
        "    fig.tight_layout()\n",
        "    return ax\n",
        "\n",
        "\n",
        "np.set_printoptions(precision=2)\n",
        "\n",
        "from sklearn.metrics import confusion_matrix\n",
        "y_pred = model.predict(x_test)\n",
        "y_test_argmax = y_test.argmax(axis=1)\n",
        "y_pred_argmax = y_pred.argmax(axis=1)\n",
        "\n",
        "class_names = np.array([0, 1, 2])\n",
        "\n",
        "# Plot non-normalized confusion matrix\n",
        "plot_confusion_matrix(y_test_argmax, y_pred_argmax, classes=class_names,\n",
        "                      title='Confusion matrix, without normalization')\n",
        "\n",
        "plt.savefig('confusion_mat_count.png', dpi=300)\n",
        "# Plot normalized confusion matrix\n",
        "plot_confusion_matrix(y_test_argmax, y_pred_argmax, classes=class_names, normalize=True,\n",
        "                      title='Normalized confusion matrix')\n",
        "plt.savefig('confusion_mat_%.png', dpi=300)\n",
        "\n",
        "plt.show()"
      ],
      "execution_count": 0,
      "outputs": [
        {
          "output_type": "stream",
          "text": [
            "Confusion matrix, without normalization\n",
            "[[6619    0]\n",
            " [  22 6559]]\n",
            "Normalized confusion matrix\n",
            "[[1. 0.]\n",
            " [0. 1.]]\n"
          ],
          "name": "stdout"
        },
        {
          "output_type": "display_data",
          "data": {
            "image/png": "[encoded data removed]",
            "text/plain": [
              "<Figure size 432x288 with 2 Axes>"
            ]
          },
          "metadata": {
            "tags": []
          }
        },
        {
          "output_type": "display_data",
          "data": {
            "image/png": "[encoded data removed]",
            "text/plain": [
              "<Figure size 432x288 with 2 Axes>"
            ]
          },
          "metadata": {
            "tags": []
          }
        }
      ]
    },
    {
      "cell_type": "code",
      "metadata": {
        "id": "8IW8RAk28R9A",
        "colab_type": "code",
        "colab": {}
      },
      "source": [
        ""
      ],
      "execution_count": 0,
      "outputs": []
    }
  ]
}